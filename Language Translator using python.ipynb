{
 "cells": [
  {
   "cell_type": "code",
   "execution_count": 1,
   "id": "25e83c25",
   "metadata": {},
   "outputs": [],
   "source": [
    "from tkinter import*\n",
    "from tkinter import ttk\n",
    "from googletrans import Translator , LANGUAGES"
   ]
  },
  {
   "cell_type": "code",
   "execution_count": 2,
   "id": "ed2bc65e",
   "metadata": {
    "scrolled": true
   },
   "outputs": [],
   "source": [
    "root = Tk()\n",
    "root.geometry('1100x320')\n",
    "root.resizable(0,0)\n",
    "root.title('Language Translator')\n",
    "root['bg']= 'grey'\n",
    "Label(root, text = \"Language Translator\" , font = \"Arial 20 bold\").pack()"
   ]
  },
  {
   "cell_type": "raw",
   "id": "1bfcc30d",
   "metadata": {},
   "source": []
  },
  {
   "cell_type": "code",
   "execution_count": 3,
   "id": "c293fd65",
   "metadata": {},
   "outputs": [],
   "source": [
    "Label(root,text= \"Enter Text\", font = 'arial 13 bold', bg = 'white smoke').place(x=165, y=90)"
   ]
  },
  {
   "cell_type": "code",
   "execution_count": 4,
   "id": "15dfddbc",
   "metadata": {},
   "outputs": [
    {
     "data": {
      "text/plain": [
       "''"
      ]
     },
     "execution_count": 4,
     "metadata": {},
     "output_type": "execute_result"
    }
   ],
   "source": [
    "Input_text = Entry(root, width= 60)\n",
    "Input_text.place(x=10 , y= 130)\n",
    "Input_text.get()\n",
    "\n"
   ]
  },
  {
   "cell_type": "code",
   "execution_count": 5,
   "id": "071e22c9",
   "metadata": {},
   "outputs": [],
   "source": [
    "Label(root,text =\"output\", font = 'arial 13 bold', bg='white smoke').place(x=780, y=90)\n",
    "output_text = Text(root, font='arial 10', height =5 ,wrap= WORD,padx=5,pady=5, width = 50)\n",
    "output_text.place(x=600 , y=130)\n",
    "language = list(LANGUAGES.values())\n",
    "dest_lang = ttk.Combobox(root, values= language, width =22)\n",
    "dest_lang.place(x=130, y=180)\n",
    "dest_lang.set('choose language')\n",
    "\n",
    "def Translate():\n",
    "    translator = Translator()\n",
    "    translated= translator.translate(text=Input_text.get(), dest= dest_lang.get())\n",
    "    output_text.delete(1.0,END)\n",
    "    output_text.insert(END, translated.text)\n",
    "\n",
    "trans_btn =Button(root,text = 'Translate' , font='arial 12 bold' , pady=5 , command= Translate, bg ='orange', activebackground='green')\n",
    "trans_btn.place(x=445,y=180)\n",
    "\n",
    "root.mainloop()"
   ]
  },
  {
   "cell_type": "code",
   "execution_count": null,
   "id": "b0754456",
   "metadata": {},
   "outputs": [],
   "source": []
  },
  {
   "cell_type": "code",
   "execution_count": null,
   "id": "f2920f32",
   "metadata": {},
   "outputs": [],
   "source": []
  },
  {
   "cell_type": "code",
   "execution_count": null,
   "id": "df1a0142",
   "metadata": {},
   "outputs": [],
   "source": []
  }
 ],
 "metadata": {
  "kernelspec": {
   "display_name": "Python 3 (ipykernel)",
   "language": "python",
   "name": "python3"
  },
  "language_info": {
   "codemirror_mode": {
    "name": "ipython",
    "version": 3
   },
   "file_extension": ".py",
   "mimetype": "text/x-python",
   "name": "python",
   "nbconvert_exporter": "python",
   "pygments_lexer": "ipython3",
   "version": "3.10.9"
  }
 },
 "nbformat": 4,
 "nbformat_minor": 5
}
